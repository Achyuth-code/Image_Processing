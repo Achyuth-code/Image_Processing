{
 "cells": [
  {
   "cell_type": "code",
   "execution_count": null,
   "id": "79c84be8-4045-4a35-92c7-5be2e4fcec20",
   "metadata": {},
   "outputs": [],
   "source": [
    "import numpy as np\n",
    "import matplotlib.pyplot as plt\n",
    "import cv2 as cv"
   ]
  },
  {
   "cell_type": "markdown",
   "id": "5345c716-c945-4626-be07-950890d8a3e9",
   "metadata": {},
   "source": [
    "# Image Scaling"
   ]
  },
  {
   "cell_type": "code",
   "execution_count": null,
   "id": "5c4c6df8-8da5-4f95-afdd-9bb50a768c0b",
   "metadata": {},
   "outputs": [],
   "source": [
    "cam = cv.VideoCapture(0)\n",
    "while True:\n",
    "    _, img = cam.read()\n",
    "    img = cv.flip(img, 1)\n",
    "    resized_image_1 = cv.resize(img, (int(img.shape[1]/2), int(img.shape[0]/2)))\n",
    "    resized_image_2 = cv.resize(img, (int(img.shape[1]/4), int(img.shape[0]/4)))\n",
    "    \n",
    "    cv.imshow(\"Original\", img)\n",
    "    cv.imshow(\"Resized_1\", resized_image_1)\n",
    "    cv.imshow(\"Resized_2\", resized_image_2)\n",
    "    \n",
    "    if cv.waitKey(10) == 27:\n",
    "        cam.release()\n",
    "        break"
   ]
  },
  {
   "cell_type": "markdown",
   "id": "91833c26-83e1-49ce-a3ac-49968fdd6cf9",
   "metadata": {},
   "source": [
    "# Downscale and Upscale"
   ]
  },
  {
   "cell_type": "code",
   "execution_count": null,
   "id": "f58ec492-fe72-4387-8e24-7508792d6253",
   "metadata": {},
   "outputs": [],
   "source": [
    "import cv2 as cv\n",
    "cam = cv.VideoCapture(0)\n",
    "\n",
    "while True:\n",
    "    _, img = cam.read()\n",
    "    img = cv.flip(img, 1)\n",
    "    resized = cv.resize(img, (int(img.shape[1]/2), int(img.shape[0]/2)))\n",
    "    upscale = cv.resize(resized, (int(resized.shape[1]*2), int(resized.shape[0]*2)))\n",
    "    \n",
    "    cv.imshow(\"Original\", img)\n",
    "    cv.imshow(\"Resized\", resized)\n",
    "    cv.imshow(\"Upscaled image\", upscale)\n",
    "    if cv.waitKey(10) == 27:\n",
    "        cam.release()\n",
    "        break"
   ]
  },
  {
   "cell_type": "code",
   "execution_count": null,
   "id": "531a5ed6-f925-47b2-99eb-c9067e0e633d",
   "metadata": {},
   "outputs": [],
   "source": []
  }
 ],
 "metadata": {
  "kernelspec": {
   "display_name": "Python 3 (ipykernel)",
   "language": "python",
   "name": "python3"
  },
  "language_info": {
   "codemirror_mode": {
    "name": "ipython",
    "version": 3
   },
   "file_extension": ".py",
   "mimetype": "text/x-python",
   "name": "python",
   "nbconvert_exporter": "python",
   "pygments_lexer": "ipython3",
   "version": "3.11.7"
  }
 },
 "nbformat": 4,
 "nbformat_minor": 5
}
