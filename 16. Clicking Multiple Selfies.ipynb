{
 "cells": [
  {
   "cell_type": "code",
   "execution_count": 1,
   "id": "24eb7250-4e6f-4325-bdcf-931817704853",
   "metadata": {},
   "outputs": [],
   "source": [
    "import numpy as np\n",
    "import matplotlib.pyplot as plt\n",
    "import cv2 as cv"
   ]
  },
  {
   "cell_type": "markdown",
   "id": "9e2993f6-324b-4e73-ab35-202438a2d7a1",
   "metadata": {},
   "source": [
    "# Multiple Selfies"
   ]
  },
  {
   "cell_type": "code",
   "execution_count": 6,
   "id": "54626616-44e2-4879-b562-a790c2d57542",
   "metadata": {},
   "outputs": [],
   "source": [
    "cam = cv.VideoCapture(0)\n",
    "c = 1\n",
    "\n",
    "while True:\n",
    "    _, img = cam.read()\n",
    "    img = cv.flip(img, 1)\n",
    "    cv.imshow(\"Original\", img)\n",
    "    key = cv.waitKey(10)\n",
    "    if (key == 13):                                           # Click selfie if Enter is pressed\n",
    "        cv.imwrite('Selfie/Selfie_' + str(c) + '.png', img)\n",
    "        c += 1\n",
    "    if (key == 27):\n",
    "        cam.release()\n",
    "        break"
   ]
  },
  {
   "cell_type": "code",
   "execution_count": null,
   "id": "34d84cf8-0741-439c-b5a7-d44c0817d660",
   "metadata": {},
   "outputs": [],
   "source": []
  }
 ],
 "metadata": {
  "kernelspec": {
   "display_name": "Python 3 (ipykernel)",
   "language": "python",
   "name": "python3"
  },
  "language_info": {
   "codemirror_mode": {
    "name": "ipython",
    "version": 3
   },
   "file_extension": ".py",
   "mimetype": "text/x-python",
   "name": "python",
   "nbconvert_exporter": "python",
   "pygments_lexer": "ipython3",
   "version": "3.11.7"
  }
 },
 "nbformat": 4,
 "nbformat_minor": 5
}
