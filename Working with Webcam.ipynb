{
 "cells": [
  {
   "cell_type": "code",
   "execution_count": 1,
   "id": "874f0eb5-8a6c-4af8-8f1c-ba9f0c6a8485",
   "metadata": {},
   "outputs": [],
   "source": [
    "import numpy as np\n",
    "import matplotlib.pyplot as plt\n",
    "import cv2 as cv"
   ]
  },
  {
   "cell_type": "markdown",
   "id": "b46e099d-a09c-4e67-827a-7d430fc288fb",
   "metadata": {},
   "source": [
    "# Working  with Webcam"
   ]
  },
  {
   "cell_type": "code",
   "execution_count": 3,
   "id": "7671d5d0-52cc-4bfd-8a45-85e2599d4092",
   "metadata": {},
   "outputs": [],
   "source": [
    "cam = cv.VideoCapture(0)\n",
    "\n",
    "while True:\n",
    "    _, img = cam.read()\n",
    "    cv.imshow(\"Frame\", img)\n",
    "    key = cv.waitKey(1)\n",
    "    if (key == 27):\n",
    "        cam.release()\n",
    "        break"
   ]
  },
  {
   "cell_type": "markdown",
   "id": "43cbe389-ef47-4bb3-96a1-dd534f4d2a41",
   "metadata": {},
   "source": [
    "# Webcam - Crop and flip"
   ]
  },
  {
   "cell_type": "code",
   "execution_count": 10,
   "id": "06ab97f7-fddc-48e8-9b87-882c43e0f6fb",
   "metadata": {},
   "outputs": [],
   "source": [
    "cam = cv.VideoCapture(0)\n",
    "\n",
    "while True:\n",
    "    _, img = cam.read()\n",
    "    img = cv.flip(img, 1)\n",
    "    frame = img[100:500, :, :]\n",
    "    cv.imshow(\"Original\", img)\n",
    "    cv.imshow(\"Cropped\", frame)\n",
    "    if cv.waitKey(1) == 27:\n",
    "        cam.release()\n",
    "        break"
   ]
  },
  {
   "cell_type": "markdown",
   "id": "cd4888dc-c5ca-4aa9-ad22-cd8d54f7e24a",
   "metadata": {},
   "source": [
    "# Frame Extraction"
   ]
  },
  {
   "cell_type": "code",
   "execution_count": 15,
   "id": "fc2deafa-92fe-4976-9abc-84990127aee3",
   "metadata": {},
   "outputs": [],
   "source": [
    "cam = cv.VideoCapture(0)\n",
    "\n",
    "while True:\n",
    "    _, img = cam.read()\n",
    "    img = cv.flip(img, 1)\n",
    "    hsv = cv.cvtColor(img, cv.COLOR_BGR2HSV)\n",
    "    r = img[:,:,0]\n",
    "    g = img[:,:,1]\n",
    "    b = img[:,:,2]\n",
    "\n",
    "    h = img[:,:,0]\n",
    "    s = img[:,:,1]\n",
    "    v = img[:,:,2]\n",
    "    \n",
    "    cv.imshow(\"Original\", img)\n",
    "    cv.imshow(\"HSV\", hsv)\n",
    "    cv.imshow(\"Red\", r)\n",
    "    cv.imshow(\"Green\", g)\n",
    "    cv.imshow(\"Blue\", b)\n",
    "    cv.imshow(\"Hue\", h)\n",
    "    cv.imshow(\"Saturation\", s)\n",
    "    cv.imshow(\"Value\", v)\n",
    "    \n",
    "    if cv.waitKey(10) == 27:\n",
    "        cam.release()\n",
    "        break"
   ]
  },
  {
   "cell_type": "code",
   "execution_count": null,
   "id": "2d8bd403-8eba-4b20-9f83-be257b745bac",
   "metadata": {},
   "outputs": [],
   "source": []
  }
 ],
 "metadata": {
  "kernelspec": {
   "display_name": "Python 3 (ipykernel)",
   "language": "python",
   "name": "python3"
  },
  "language_info": {
   "codemirror_mode": {
    "name": "ipython",
    "version": 3
   },
   "file_extension": ".py",
   "mimetype": "text/x-python",
   "name": "python",
   "nbconvert_exporter": "python",
   "pygments_lexer": "ipython3",
   "version": "3.11.7"
  }
 },
 "nbformat": 4,
 "nbformat_minor": 5
}
