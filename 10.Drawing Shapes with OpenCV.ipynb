{
 "cells": [
  {
   "cell_type": "code",
   "execution_count": 1,
   "id": "f1750c56-25b2-4286-8f2e-fdcfc4bff8f3",
   "metadata": {},
   "outputs": [],
   "source": [
    "import numpy as np\n",
    "import matplotlib.pyplot as plt\n",
    "import cv2 as cv"
   ]
  },
  {
   "cell_type": "markdown",
   "id": "ac371727-7d95-4a89-b052-41f296aec0d8",
   "metadata": {},
   "source": [
    "# Drawing a Rectangle "
   ]
  },
  {
   "cell_type": "code",
   "execution_count": null,
   "id": "e990c42d-b058-4a20-91d3-e745a75f5f5a",
   "metadata": {},
   "outputs": [],
   "source": [
    "cam = cv.VideoCapture(0)\n",
    "\n",
    "while True:\n",
    "    _, img = cam.read()\n",
    "    img = cv.flip(img, 1)\n",
    "    img = cv.rectangle(img, (100,100), (400,400), (200,255,40), 3)\n",
    "    \n",
    "    cv.imshow(\"Frame\", img)\n",
    "    key = cv.waitKey(10)\n",
    "    \n",
    "    if (key == 27):\n",
    "        break\n",
    "cam.release()"
   ]
  },
  {
   "cell_type": "markdown",
   "id": "002260b2-7dca-43cf-8f58-25999f7b1e28",
   "metadata": {},
   "source": [
    "# Drawing a Circle"
   ]
  },
  {
   "cell_type": "code",
   "execution_count": null,
   "id": "53aa6e03-bcf8-4c00-abb0-dc9cbe8ed8bd",
   "metadata": {},
   "outputs": [],
   "source": [
    "cam = cv.VideoCapture(0)\n",
    "\n",
    "while True:\n",
    "    _, img = cam.read()\n",
    "    img = cv.flip(img, 1)\n",
    "    img = cv.circle(img, (100,200), 150,(255,255,255),3)\n",
    "    cv.imshow(\"Frame\", img)\n",
    "    key = cv.waitKey(10)\n",
    "    \n",
    "    if (key == 27):\n",
    "        cam.release()\n",
    "        break"
   ]
  },
  {
   "cell_type": "markdown",
   "id": "60496657-c304-455d-a2bb-72bd916ee0d8",
   "metadata": {},
   "source": [
    "# Writing the text"
   ]
  },
  {
   "cell_type": "code",
   "execution_count": null,
   "id": "630a888d-2296-4604-b9a2-454aea4e6559",
   "metadata": {},
   "outputs": [],
   "source": [
    "cam = cv.VideoCapture(0)\n",
    "\n",
    "while True:\n",
    "    _, img = cam.read()\n",
    "    img = cv.flip(img, 1)\n",
    "    img = cv.putText(img, 'Achyuth Kumar', (10,30), cv.FONT_HERSHEY_PLAIN, 2, (255,255,255),3)\n",
    "    cv.imshow(\"Frame\", img)\n",
    "    key = cv.waitKey(10)\n",
    "    \n",
    "    if (key == 27):\n",
    "        cam.release()\n",
    "        break"
   ]
  },
  {
   "cell_type": "code",
   "execution_count": null,
   "id": "be5a8813-88bd-4a78-b6e5-214b75bc4321",
   "metadata": {},
   "outputs": [],
   "source": []
  }
 ],
 "metadata": {
  "kernelspec": {
   "display_name": "Python 3 (ipykernel)",
   "language": "python",
   "name": "python3"
  },
  "language_info": {
   "codemirror_mode": {
    "name": "ipython",
    "version": 3
   },
   "file_extension": ".py",
   "mimetype": "text/x-python",
   "name": "python",
   "nbconvert_exporter": "python",
   "pygments_lexer": "ipython3",
   "version": "3.11.7"
  }
 },
 "nbformat": 4,
 "nbformat_minor": 5
}
