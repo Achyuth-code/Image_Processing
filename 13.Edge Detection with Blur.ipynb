{
 "cells": [
  {
   "cell_type": "code",
   "execution_count": 1,
   "id": "db8b658f-abf2-421d-a811-5444b23276cd",
   "metadata": {},
   "outputs": [],
   "source": [
    "import numpy as np\n",
    "import matplotlib.pyplot as plt\n",
    "import cv2 as cv"
   ]
  },
  {
   "cell_type": "markdown",
   "id": "5a4b239c-de2c-4773-8f74-209e5b84c976",
   "metadata": {},
   "source": [
    "# Edge Detection with Blur"
   ]
  },
  {
   "cell_type": "code",
   "execution_count": null,
   "id": "d609eb86-585b-4568-93f8-b57f1daa4e1a",
   "metadata": {},
   "outputs": [],
   "source": [
    "cam = cv.VideoCapture(0)\n",
    "\n",
    "while True:\n",
    "    _, img = cam.read()\n",
    "    img   = cv.flip(img, 1)\n",
    "    blur  = cv.blur(img, (6,8))\n",
    "    edge  = cv.Canny(img, 50,150)\n",
    "    final = cv.Canny(blur, 50,150)\n",
    "    cv.imshow(\"Original\", img)\n",
    "    cv.imshow(\"Blur\", blur)\n",
    "    cv.imshow(\"Edge\", edge)\n",
    "    cv.imshow(\"Final\", final)\n",
    "    if cv.waitKey(10) == 27:\n",
    "        cam.release()\n",
    "        break"
   ]
  },
  {
   "cell_type": "code",
   "execution_count": null,
   "id": "c6f074fe-b0b2-479f-b0dc-0ff9385a30f6",
   "metadata": {},
   "outputs": [],
   "source": []
  }
 ],
 "metadata": {
  "kernelspec": {
   "display_name": "Python 3 (ipykernel)",
   "language": "python",
   "name": "python3"
  },
  "language_info": {
   "codemirror_mode": {
    "name": "ipython",
    "version": 3
   },
   "file_extension": ".py",
   "mimetype": "text/x-python",
   "name": "python",
   "nbconvert_exporter": "python",
   "pygments_lexer": "ipython3",
   "version": "3.11.7"
  }
 },
 "nbformat": 4,
 "nbformat_minor": 5
}
