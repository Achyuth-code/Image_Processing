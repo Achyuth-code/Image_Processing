{
 "cells": [
  {
   "cell_type": "code",
   "execution_count": 1,
   "id": "1414f9c7-8ec6-43ea-9bd5-256f815d184d",
   "metadata": {},
   "outputs": [],
   "source": [
    "import numpy as np\n",
    "import matplotlib.pyplot as plt\n",
    "import cv2 as cv"
   ]
  },
  {
   "cell_type": "code",
   "execution_count": 7,
   "id": "22f12b09-84a1-49fb-8bd1-ae72b7f78a0e",
   "metadata": {},
   "outputs": [],
   "source": [
    "cam = cv.VideoCapture(0)\n",
    "\n",
    "while True:\n",
    "    \n",
    "    _ , img = cam.read()\n",
    "    \n",
    "    img = cv.resize(img , (int(1280/2), int(720/2)))\n",
    "    img = cv.flip(img,1)\n",
    "    \n",
    "    gray = cv.cvtColor(img , cv.COLOR_BGR2GRAY)\n",
    "    \n",
    "    gray_thr_1 = gray.copy()\n",
    "    gray_thr_1[gray_thr_1 > 200] = 30        # Black Background\n",
    "    \n",
    "    gray_thr_2 = gray.copy()\n",
    "    gray_thr_2[gray_thr_2 > 200] = 100       # White Background\n",
    "    \n",
    "    \n",
    "    cv.imshow('Original'  ,img)\n",
    "    cv.imshow('Gray'      ,gray)\n",
    "    cv.imshow('Gray_Thr1' ,gray_thr_1)\n",
    "    cv.imshow('Gray_Thr2' ,gray_thr_2)\n",
    "    \n",
    "    if cv.waitKey(1) == 27:\n",
    "        \n",
    "        cam.release()\n",
    "        break"
   ]
  },
  {
   "cell_type": "code",
   "execution_count": 11,
   "id": "c05c3a99-5920-4f78-9b8f-e3f7be7e0922",
   "metadata": {},
   "outputs": [
    {
     "data": {
      "text/plain": [
       "(360, 640, 3)"
      ]
     },
     "execution_count": 11,
     "metadata": {},
     "output_type": "execute_result"
    }
   ],
   "source": [
    "img.shape"
   ]
  },
  {
   "cell_type": "code",
   "execution_count": null,
   "id": "820571b5-6baf-4073-96b1-1381aea78f80",
   "metadata": {},
   "outputs": [],
   "source": []
  }
 ],
 "metadata": {
  "kernelspec": {
   "display_name": "Python 3 (ipykernel)",
   "language": "python",
   "name": "python3"
  },
  "language_info": {
   "codemirror_mode": {
    "name": "ipython",
    "version": 3
   },
   "file_extension": ".py",
   "mimetype": "text/x-python",
   "name": "python",
   "nbconvert_exporter": "python",
   "pygments_lexer": "ipython3",
   "version": "3.11.7"
  }
 },
 "nbformat": 4,
 "nbformat_minor": 5
}
