{
 "cells": [
  {
   "cell_type": "code",
   "execution_count": 3,
   "id": "285be27b-db43-400e-b34a-fdad5beaecaf",
   "metadata": {},
   "outputs": [],
   "source": [
    "import numpy as np\n",
    "import matplotlib.pyplot as plt\n",
    "import cv2 as cv"
   ]
  },
  {
   "cell_type": "markdown",
   "id": "e8f87c62-84e7-4c89-aada-009b5f49f2ab",
   "metadata": {},
   "source": [
    "# Clicking Selfie"
   ]
  },
  {
   "cell_type": "code",
   "execution_count": 6,
   "id": "c448d7aa-4556-4e8c-8ca5-9b6895556949",
   "metadata": {},
   "outputs": [],
   "source": [
    "cam = cv.VideoCapture(0)\n",
    "\n",
    "while True:\n",
    "    _, img = cam.read()\n",
    "    img  = cv.flip(img, 1)\n",
    "    gray = cv.cvtColor(img, cv.COLOR_RGB2GRAY)\n",
    "    hsv = cv.cvtColor(img, cv.COLOR_RGB2HSV)\n",
    "    cv.imshow(\"Original\", img)\n",
    "    if cv.waitKey(20) == 13:\n",
    "        cv.imwrite(\"Selfie.png\", img)\n",
    "        cv.imwrite(\"Gray_Selfie.png\", gray)\n",
    "        cv.imwrite(\"HSV_Selfie.png\", hsv)\n",
    "        cam.release()\n",
    "        break"
   ]
  },
  {
   "cell_type": "code",
   "execution_count": null,
   "id": "fbeed6ca-4cde-4f00-8d5e-e2887ca0833f",
   "metadata": {},
   "outputs": [],
   "source": []
  }
 ],
 "metadata": {
  "kernelspec": {
   "display_name": "Python 3 (ipykernel)",
   "language": "python",
   "name": "python3"
  },
  "language_info": {
   "codemirror_mode": {
    "name": "ipython",
    "version": 3
   },
   "file_extension": ".py",
   "mimetype": "text/x-python",
   "name": "python",
   "nbconvert_exporter": "python",
   "pygments_lexer": "ipython3",
   "version": "3.11.7"
  }
 },
 "nbformat": 4,
 "nbformat_minor": 5
}
