{
 "cells": [
  {
   "cell_type": "code",
   "execution_count": null,
   "id": "a35f4260-4c70-419f-b2a6-2aa23537a369",
   "metadata": {},
   "outputs": [],
   "source": [
    "import numpy as np\n",
    "import matplotlib.pyplot as plt\n",
    "import cv2 as cv\n",
    "blue = [247,206,139]"
   ]
  },
  {
   "cell_type": "markdown",
   "id": "8393296b-17bc-4ecf-b3a2-d1c3a3584e27",
   "metadata": {},
   "source": [
    "# Creating Blue Background"
   ]
  },
  {
   "cell_type": "code",
   "execution_count": null,
   "id": "159ec5f3-a0e8-4e39-837d-9ba8fbab9bb5",
   "metadata": {},
   "outputs": [],
   "source": [
    "background = []\n",
    "for i in range(720):\n",
    "    temp = []\n",
    "    for j in range(1280):\n",
    "        temp.append(blue)\n",
    "    background.append(temp)\n",
    "background = np.array(background).astype(np.uint8)"
   ]
  },
  {
   "cell_type": "markdown",
   "id": "a4c5fc3b-17b2-47a6-a49c-75fb3a207400",
   "metadata": {},
   "source": [
    "# Merging Blue Background"
   ]
  },
  {
   "cell_type": "code",
   "execution_count": null,
   "id": "87c21312-b0b0-439b-8f12-636ea46f24f3",
   "metadata": {},
   "outputs": [],
   "source": [
    "cam = cv.VideoCapture(0)\n",
    "\n",
    "while True:\n",
    "    \n",
    "    _, img = cam.read()\n",
    "    img = cv.flip(img, 1)\n",
    "    \n",
    "    img = np.array(img).astype(np.uint8)\n",
    "    background = cv.resize(background, (img.shape[1], img.shape[0]))\n",
    "    if len(background.shape) == 2:\n",
    "        background = cv.cvtColor(background, cv.COLOR_GRAY2BGR)\n",
    "\n",
    "    \n",
    "    merged = cv.addWeighted(img, .85, background, .15, 0)\n",
    "    \n",
    "    cv.imshow(\"Original\",img)\n",
    "    cv.imshow(\"Merged\",merged)\n",
    "    \n",
    "    if cv.waitKey(1) == 27:\n",
    "        cam.release()\n",
    "        break"
   ]
  },
  {
   "cell_type": "markdown",
   "id": "96797e29-5a93-4db8-80b0-e9ab4859d41d",
   "metadata": {},
   "source": [
    "# Warmer Tone"
   ]
  },
  {
   "cell_type": "code",
   "execution_count": null,
   "id": "443338d2-1915-4682-a77b-3302a6694c32",
   "metadata": {},
   "outputs": [],
   "source": [
    "import numpy as np\n",
    "import matplotlib.pyplot as plt\n",
    "import cv2 as cv\n",
    "\n",
    "yellow = [108,222,249]\n",
    "background = []\n",
    "for i in range(720):\n",
    "    temp = []\n",
    "    for j in range(1280):\n",
    "        temp.append(yellow)\n",
    "    background.append(temp)\n",
    "background = np.array(background).astype(np.uint8)\n",
    "\n",
    "cam = cv.VideoCapture(0)\n",
    "\n",
    "while True:\n",
    "    \n",
    "    _, img = cam.read()\n",
    "    img = cv.flip(img, 1)\n",
    "    \n",
    "    img = np.array(img).astype(np.uint8)\n",
    "    background = cv.resize(background, (img.shape[1], img.shape[0]))\n",
    "    if len(background.shape) == 2:\n",
    "        background = cv.cvtColor(background, cv.COLOR_GRAY2BGR)\n",
    "\n",
    "    \n",
    "    merged = cv.addWeighted(img, .85, background, .15, 0)\n",
    "    \n",
    "    cv.imshow(\"Original\",img)\n",
    "    cv.imshow(\"Merged\",merged)\n",
    "    \n",
    "    if cv.waitKey(1) == 27:\n",
    "        cam.release()\n",
    "        break"
   ]
  },
  {
   "cell_type": "markdown",
   "id": "5c233624-9540-406f-a95d-e7892358e678",
   "metadata": {},
   "source": [
    "# Both Filters"
   ]
  },
  {
   "cell_type": "code",
   "execution_count": null,
   "id": "2a44c4a8-d830-4f7a-9a37-5ea4c3240013",
   "metadata": {},
   "outputs": [],
   "source": [
    "import numpy as np\n",
    "import matplotlib.pyplot as plt\n",
    "import cv2 as cv\n",
    "\n",
    "yellow = [108,222,249]\n",
    "yellow_background = []\n",
    "for i in range(720):\n",
    "    temp = []\n",
    "    for j in range(1280):\n",
    "        temp.append(yellow)\n",
    "    yellow_background.append(temp)\n",
    "yellow_background = np.array(yellow_background).astype(np.uint8)\n",
    "\n",
    "blue = [247,206,139]\n",
    "blue_background = []\n",
    "for i in range(720):\n",
    "    temp = []\n",
    "    for j in range(1280):\n",
    "        temp.append(blue)\n",
    "    blue_background.append(temp)\n",
    "blue_background = np.array(blue_background).astype(np.uint8)\n",
    "\n",
    "cam = cv.VideoCapture(0)\n",
    "\n",
    "while True:\n",
    "    \n",
    "    _, img = cam.read()\n",
    "    img = cv.flip(img, 1)\n",
    "    \n",
    "    img = np.array(img).astype(np.uint8)\n",
    "  \n",
    "    yellow_merged = cv.addWeighted(img, .90, yellow_background, .10, 0)\n",
    "    blue_merged = cv.addWeighted(img, .90, blue_background, .10, 0)\n",
    "    \n",
    "    cv.imshow(\"Original\",img)\n",
    "    cv.imshow(\"Yellow_Merged\",yellow_merged)\n",
    "    cv.imshow(\"Blue_Merged\",blue_merged)\n",
    "    if cv.waitKey(1) == 27:\n",
    "        cam.release()\n",
    "        break"
   ]
  },
  {
   "cell_type": "code",
   "execution_count": null,
   "id": "cf06340e-edaf-43c8-a1cc-58dbde78a9bd",
   "metadata": {},
   "outputs": [],
   "source": []
  },
  {
   "cell_type": "code",
   "execution_count": null,
   "id": "51b79cc6-a890-44b6-ba34-ee2ebb492a51",
   "metadata": {},
   "outputs": [],
   "source": []
  }
 ],
 "metadata": {
  "kernelspec": {
   "display_name": "Python 3 (ipykernel)",
   "language": "python",
   "name": "python3"
  },
  "language_info": {
   "codemirror_mode": {
    "name": "ipython",
    "version": 3
   },
   "file_extension": ".py",
   "mimetype": "text/x-python",
   "name": "python",
   "nbconvert_exporter": "python",
   "pygments_lexer": "ipython3",
   "version": "3.11.7"
  }
 },
 "nbformat": 4,
 "nbformat_minor": 5
}
